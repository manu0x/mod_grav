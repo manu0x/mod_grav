{
 "cells": [
  {
   "cell_type": "code",
   "execution_count": 1,
   "id": "3462ac81",
   "metadata": {},
   "outputs": [],
   "source": [
    "import numpy as np\n",
    "import matplotlib.pyplot as plt\n",
    "import matplotlib.gridspec as gridspec"
   ]
  },
  {
   "cell_type": "code",
   "execution_count": 36,
   "id": "486307ca",
   "metadata": {},
   "outputs": [],
   "source": [
    "\n",
    "    \n",
    "def plot_bgrid_S3_z0(n=4):\n",
    "    data = np.genfromtxt(\"s3_z0_bgrid.txt\",delimiter=\"\\t\")\n",
    "    grid_n = int(data.shape[0]/n)\n",
    "    print(\"grid_n is \",grid_n)\n",
    "    om = data[:,0]\n",
    "    b1= data[:,1]\n",
    "    s3 = data[:,2]\n",
    "    fig=plt.figure(figsize=(12.0,9.5), dpi=80)\n",
    "    #fig.suptitle('Overdensity at turn around', fontsize=14, fontweight='bold')\n",
    "    gs = gridspec.GridSpec(1, 1)\n",
    "    ax1 = plt.subplot(gs[0, 0])\n",
    "    ax1.set_ylabel(r\"$S_3$\",fontsize=40)\n",
    "    ax1.set_xlabel(\"$a$\",fontsize=40)\n",
    "    ax1.set_xscale('log')\n",
    "    ax1.tick_params(axis='both', which='major',labelsize=13)\n",
    "    \n",
    "    i=0\n",
    "    for mod in list_lcdm_mod:\n",
    "        ax1.plot(mod[:,0],mod[:,c],list_symb[i],ms=list_ms[i],label=list_lcdm_tit[i])\n",
    "        i = i+1\n",
    "    \n",
    "    \n",
    "    ax1.legend(loc='best',frameon=False, fontsize=20)\n",
    "\n",
    "    fig.savefig(\"lcdm_S3.pdf\",dpi=fig.dpi,bbox_inches='tight')"
   ]
  }
 ],
 "metadata": {
  "kernelspec": {
   "display_name": "Python 3 (ipykernel)",
   "language": "python",
   "name": "python3"
  },
  "language_info": {
   "codemirror_mode": {
    "name": "ipython",
    "version": 3
   },
   "file_extension": ".py",
   "mimetype": "text/x-python",
   "name": "python",
   "nbconvert_exporter": "python",
   "pygments_lexer": "ipython3",
   "version": "3.7.3"
  }
 },
 "nbformat": 4,
 "nbformat_minor": 5
}
