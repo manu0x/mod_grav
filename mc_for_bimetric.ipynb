{
 "cells": [
  {
   "cell_type": "code",
   "execution_count": 14,
   "id": "5e150714",
   "metadata": {},
   "outputs": [],
   "source": [
    "import ctypes\n",
    "import sys\n",
    "import os \n",
    "import numpy as np\n",
    "from ctypes import POINTER"
   ]
  },
  {
   "cell_type": "code",
   "execution_count": 15,
   "id": "f5af1d56",
   "metadata": {},
   "outputs": [],
   "source": [
    "cwd =  os.getcwd()"
   ]
  },
  {
   "cell_type": "code",
   "execution_count": 16,
   "id": "379505c5",
   "metadata": {},
   "outputs": [],
   "source": [
    "lib_h = ctypes.CDLL(cwd + \"/friedmann_Cs_lib.so\") "
   ]
  },
  {
   "cell_type": "code",
   "execution_count": 41,
   "id": "736b9de6",
   "metadata": {},
   "outputs": [],
   "source": [
    "#double omega_dm0,double B1,double sig8,double *data,double *fs8,int n,int ax=1,int print_file=0\n",
    "lib_h.bimetric_fs8_log_like.argtypes = [ctypes.c_double,ctypes.c_double,ctypes.c_double,POINTER(ctypes.c_double),POINTER(ctypes.c_double),ctypes.c_int,ctypes.c_int,ctypes.c_int]\n",
    "lib_h.restype = ctypes.c_int"
   ]
  },
  {
   "cell_type": "code",
   "execution_count": 50,
   "id": "75245fb3",
   "metadata": {},
   "outputs": [],
   "source": [
    "u = np.array( (0.02,0.08,0.15,0.19,0.23,0.35,0.45,0.55,0.65,0.78,0.89,0.999))\n",
    "n = int(u.shape[0])\n",
    "zz = ctypes.c_double*(n*2)\n",
    "z = zz(0.02,0.0,0.08,0.0,0.15,0.0,0.19,0.0,0.23,0.0,0.35,0.0,0.45,0.0,0.55,0.0,0.65,0.0,0.78,0.0,0.89,0.0,0.999,0.0)\n",
    "fs8 = ctypes.c_double*n\n",
    "fs8a = fs8(0.0,0.0,0.0,0.0,0.0,0.0,0.0,0.0,0.0,0.0,0.0,0.0)\n"
   ]
  },
  {
   "cell_type": "code",
   "execution_count": 53,
   "id": "77cc91dc",
   "metadata": {},
   "outputs": [],
   "source": [
    "l = lib_h.bimetric_fs8_log_like(0.3,0.0,0.8,z,fs8a,n,1,1)"
   ]
  },
  {
   "cell_type": "code",
   "execution_count": 61,
   "id": "928c7410",
   "metadata": {},
   "outputs": [],
   "source": [
    "dg = np.ones((18,))"
   ]
  },
  {
   "cell_type": "code",
   "execution_count": 62,
   "id": "305e03d1",
   "metadata": {},
   "outputs": [],
   "source": [
    "m = np.diagflat(dg)"
   ]
  },
  {
   "cell_type": "code",
   "execution_count": 68,
   "id": "403d6b09",
   "metadata": {},
   "outputs": [],
   "source": [
    "mi = np.linalg.inv(m)"
   ]
  },
  {
   "cell_type": "code",
   "execution_count": 69,
   "id": "8aa5e45d",
   "metadata": {},
   "outputs": [
    {
     "data": {
      "text/plain": [
       "array([[2., 0., 0., 0., 0., 0., 0., 0., 0., 0., 0., 0., 0., 0., 0., 0.,\n",
       "        0., 0.],\n",
       "       [0., 1., 0., 0., 0., 0., 0., 0., 0., 0., 0., 0., 0., 0., 0., 0.,\n",
       "        0., 0.],\n",
       "       [0., 0., 1., 0., 0., 0., 0., 0., 0., 0., 0., 0., 0., 0., 0., 0.,\n",
       "        0., 0.],\n",
       "       [0., 0., 0., 1., 0., 0., 0., 0., 0., 0., 0., 0., 0., 0., 0., 0.,\n",
       "        0., 0.],\n",
       "       [0., 0., 0., 0., 1., 0., 0., 0., 0., 0., 0., 0., 0., 0., 0., 0.,\n",
       "        0., 0.],\n",
       "       [0., 0., 0., 0., 0., 1., 0., 0., 0., 0., 0., 0., 0., 0., 0., 0.,\n",
       "        0., 0.],\n",
       "       [0., 0., 0., 0., 0., 0., 1., 0., 0., 0., 0., 0., 0., 0., 0., 0.,\n",
       "        0., 0.],\n",
       "       [0., 0., 0., 0., 0., 0., 0., 1., 0., 0., 0., 0., 0., 0., 0., 0.,\n",
       "        0., 0.],\n",
       "       [0., 0., 0., 0., 0., 0., 0., 0., 1., 0., 0., 0., 0., 0., 0., 0.,\n",
       "        0., 0.],\n",
       "       [0., 0., 0., 0., 0., 0., 0., 0., 0., 1., 0., 0., 0., 0., 0., 0.,\n",
       "        0., 0.],\n",
       "       [0., 0., 0., 0., 0., 0., 0., 0., 0., 0., 1., 0., 0., 0., 0., 0.,\n",
       "        0., 0.],\n",
       "       [0., 0., 0., 0., 0., 0., 0., 0., 0., 0., 0., 1., 0., 0., 0., 0.,\n",
       "        0., 0.],\n",
       "       [0., 0., 0., 0., 0., 0., 0., 0., 0., 0., 0., 0., 1., 0., 0., 0.,\n",
       "        0., 0.],\n",
       "       [0., 0., 0., 0., 0., 0., 0., 0., 0., 0., 0., 0., 0., 1., 0., 0.,\n",
       "        0., 0.],\n",
       "       [0., 0., 0., 0., 0., 0., 0., 0., 0., 0., 0., 0., 0., 0., 1., 0.,\n",
       "        0., 0.],\n",
       "       [0., 0., 0., 0., 0., 0., 0., 0., 0., 0., 0., 0., 0., 0., 0., 1.,\n",
       "        0., 0.],\n",
       "       [0., 0., 0., 0., 0., 0., 0., 0., 0., 0., 0., 0., 0., 0., 0., 0.,\n",
       "        1., 0.],\n",
       "       [0., 0., 0., 0., 0., 0., 0., 0., 0., 0., 0., 0., 0., 0., 0., 0.,\n",
       "        0., 1.]])"
      ]
     },
     "execution_count": 69,
     "metadata": {},
     "output_type": "execute_result"
    }
   ],
   "source": []
  },
  {
   "cell_type": "code",
   "execution_count": null,
   "id": "dedbd43c",
   "metadata": {},
   "outputs": [],
   "source": []
  }
 ],
 "metadata": {
  "kernelspec": {
   "display_name": "Python 3 (ipykernel)",
   "language": "python",
   "name": "python3"
  },
  "language_info": {
   "codemirror_mode": {
    "name": "ipython",
    "version": 3
   },
   "file_extension": ".py",
   "mimetype": "text/x-python",
   "name": "python",
   "nbconvert_exporter": "python",
   "pygments_lexer": "ipython3",
   "version": "3.7.3"
  }
 },
 "nbformat": 4,
 "nbformat_minor": 5
}
