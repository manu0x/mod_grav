{
 "cells": [
  {
   "cell_type": "code",
   "execution_count": 1,
   "id": "5e150714",
   "metadata": {},
   "outputs": [],
   "source": [
    "import ctypes\n",
    "import sys\n",
    "import os \n",
    "import numpy as np\n",
    "from ctypes import POINTER\n",
    "import matplotlib.pyplot as plt\n",
    "from mc_for_bimetric import calc_likelihood\n"
   ]
  },
  {
   "cell_type": "code",
   "execution_count": 2,
   "id": "f5af1d56",
   "metadata": {},
   "outputs": [],
   "source": [
    "cwd =  os.getcwd()\n",
    "lib_h = ctypes.CDLL(cwd + \"/friedmann_Cs_lib.so\") "
   ]
  },
  {
   "cell_type": "code",
   "execution_count": 3,
   "id": "dedbd43c",
   "metadata": {},
   "outputs": [],
   "source": [
    "def load_data(fname=\"data.txt\"):\n",
    "    f = np.genfromtxt(fname,delimiter=\"\\t\")\n",
    "    z = np.squeeze(f[:,0])\n",
    "    fs8_data = np.squeeze(f[:,1])\n",
    "    fs8_sig2 = np.square(np.squeeze(f[:,2]))\n",
    "    om_fid = np.squeeze(f[:,3])\n",
    "    \n",
    "    c = np.diag(fs8_sig2)\n",
    "    c[5,5] = 6.4000*0.001\n",
    "    c[4,4] = 3.969*0.001\n",
    "    c[3,3] = 5.184*0.001\n",
    "    c[4,5] = 2.570*0.001\n",
    "    c[3,5] = 0.000\n",
    "    c[5,4] = 2.570*0.001\n",
    "    c[3,4] = 2.540*0.001\n",
    "    c[5,3] = 0.000*0.001\n",
    "    c[4,3] = 2.540*0.001\n",
    "    \n",
    "    c_i = np.linalg.inv(c)\n",
    "    rat_den = np.sqrt(om_fid*np.power(1.0+z,3.0)+(1.0-om_fid))\n",
    "    mz = -1.0*z\n",
    "    sa = mz.argsort()\n",
    "    sa_inv = mz.argsort().argsort()\n",
    "    \n",
    "    cn = np.array([1,1,2,1,2,1,1,1,1,1,1,1,1,1,1,3,3,3])\n",
    "    \n",
    "    return z,fs8_data,c_i,rat_den,sa,sa_inv,cn\n",
    "    \n",
    "    "
   ]
  },
  {
   "cell_type": "code",
   "execution_count": 4,
   "id": "d829b37d",
   "metadata": {},
   "outputs": [
    {
     "name": "stdout",
     "output_type": "stream",
     "text": [
      "int64\n"
     ]
    }
   ],
   "source": [
    "z,f,ci,r,s,si,cn = load_data()\n",
    "n=18\n",
    "print(cn.dtype)\n",
    "cnw = ctypes.c_long*(n)\n",
    "u = np.ctypeslib.as_ctypes(cn)"
   ]
  },
  {
   "cell_type": "code",
   "execution_count": 5,
   "id": "cc9d74d7",
   "metadata": {},
   "outputs": [
    {
     "data": {
      "text/plain": [
       "<c_long_Array_18 at 0x7f57172c8d90>"
      ]
     },
     "execution_count": 5,
     "metadata": {},
     "output_type": "execute_result"
    }
   ],
   "source": [
    "u"
   ]
  },
  {
   "cell_type": "code",
   "execution_count": null,
   "id": "ee8fd6b8",
   "metadata": {},
   "outputs": [],
   "source": [
    "l = calc_likelihood(z,f,r,ci,cn,s,si,0.4,0.0,0.79)"
   ]
  },
  {
   "cell_type": "code",
   "execution_count": null,
   "id": "fbd01259",
   "metadata": {},
   "outputs": [],
   "source": [
    "l"
   ]
  },
  {
   "cell_type": "code",
   "execution_count": null,
   "id": "0b2cbad7",
   "metadata": {},
   "outputs": [],
   "source": []
  }
 ],
 "metadata": {
  "kernelspec": {
   "display_name": "Python 3 (ipykernel)",
   "language": "python",
   "name": "python3"
  },
  "language_info": {
   "codemirror_mode": {
    "name": "ipython",
    "version": 3
   },
   "file_extension": ".py",
   "mimetype": "text/x-python",
   "name": "python",
   "nbconvert_exporter": "python",
   "pygments_lexer": "ipython3",
   "version": "3.7.3"
  }
 },
 "nbformat": 4,
 "nbformat_minor": 5
}
