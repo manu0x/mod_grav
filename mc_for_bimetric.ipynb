{
 "cells": [
  {
   "cell_type": "code",
   "execution_count": 38,
   "id": "5e150714",
   "metadata": {},
   "outputs": [],
   "source": [
    "import ctypes\n",
    "import sys\n",
    "import os \n",
    "import numpy as np\n",
    "from ctypes import POINTER\n",
    "import matplotlib.pyplot as plt\n",
    "from mc_for_bimetric import calc_likelihood"
   ]
  },
  {
   "cell_type": "code",
   "execution_count": 2,
   "id": "f5af1d56",
   "metadata": {},
   "outputs": [],
   "source": [
    "cwd =  os.getcwd()"
   ]
  },
  {
   "cell_type": "code",
   "execution_count": null,
   "id": "dedbd43c",
   "metadata": {},
   "outputs": [],
   "source": [
    "def load_data(fname=\"data.txt\"):\n",
    "    f = np.genfromtxt(fname,delimiter=\"\\t\")\n",
    "    z = np.squeeze(f[:,0])\n",
    "    fs8_data = np.squeeze(f[:,1])\n",
    "    fs8_sig2 = np.squeeze(f[:,2])\n",
    "    \n",
    "    c = np.diag(fs8_sig2)\n",
    "    c[]\n",
    "    \n",
    "    "
   ]
  }
 ],
 "metadata": {
  "kernelspec": {
   "display_name": "Python 3 (ipykernel)",
   "language": "python",
   "name": "python3"
  },
  "language_info": {
   "codemirror_mode": {
    "name": "ipython",
    "version": 3
   },
   "file_extension": ".py",
   "mimetype": "text/x-python",
   "name": "python",
   "nbconvert_exporter": "python",
   "pygments_lexer": "ipython3",
   "version": "3.7.3"
  }
 },
 "nbformat": 4,
 "nbformat_minor": 5
}
