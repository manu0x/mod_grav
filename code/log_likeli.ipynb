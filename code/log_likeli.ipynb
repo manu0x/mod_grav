{
 "cells": [
  {
   "cell_type": "code",
   "execution_count": 18,
   "id": "edf90a04",
   "metadata": {},
   "outputs": [],
   "source": [
    "\n",
    "import ctypes\n",
    "import sys\n",
    "import os \n",
    "import time\n",
    "import numpy as np\n",
    "from ctypes import POINTER\n",
    "import matplotlib.pyplot as plt\n",
    "from mc_for_bimetric import log_likelihood,log_post\n",
    "import emcee\n",
    "from schwimmbad import MPIPool\n",
    "from mpi4py import MPI\n",
    "\n",
    "import matplotlib.gridspec as gridspec\n",
    "\n",
    "\n",
    "cwd =  os.getcwd()\n",
    "lib_h = ctypes.CDLL(cwd + \"/friedmann_Cs_lib.so\") \n",
    "\n",
    "\n",
    "\n",
    "\n",
    "def load_data(fname=\"/home/manvendra/post_doc_ahduni/sim/mod_grav/data/data.txt\"):\n",
    "    f = np.genfromtxt(fname,delimiter=\"\\t\")\n",
    "    z = np.squeeze(f[:,0])\n",
    "    fs8_data = np.squeeze(f[:,1])\n",
    "    fs8_sig2 = np.square(np.squeeze(f[:,2]))\n",
    "    om_fid = np.squeeze(f[:,3])\n",
    "    \n",
    "    c = np.diag(fs8_sig2)\n",
    "    c[5,5] = 6.4000*0.001\n",
    "    c[4,4] = 3.969*0.001\n",
    "    c[3,3] = 5.184*0.001\n",
    "    c[4,5] = 2.570*0.001\n",
    "    c[3,5] = 0.000\n",
    "    c[5,4] = 2.570*0.001\n",
    "    c[3,4] = 2.540*0.001\n",
    "    c[5,3] = 0.000*0.001\n",
    "    c[4,3] = 2.540*0.001\n",
    "    \n",
    "    c_i = np.linalg.inv(c)\n",
    "    rat_den = np.sqrt(om_fid*np.power(1.0+z,3.0)+(1.0-om_fid))\n",
    "    mz = -1.0*z\n",
    "    sa = mz.argsort()\n",
    "    sa_inv = mz.argsort().argsort()\n",
    "    \n",
    "    cn = np.array([1,1,2,1,2,1,1,1,1,1,1,1,1,1,1,3,3,3])\n",
    "    \n",
    "    return z,fs8_data,c_i,rat_den,sa,sa_inv,cn\n",
    "    \n",
    "    \n",
    "\n",
    "\n",
    "\n",
    "z,f,ci,r,s,si,cn = load_data()\n",
    "\n"
   ]
  },
  {
   "cell_type": "code",
   "execution_count": 19,
   "id": "10e00303",
   "metadata": {},
   "outputs": [],
   "source": [
    "l = log_post([0.4,0.79,0.79],z,f,r,ci,cn,s,si)"
   ]
  },
  {
   "cell_type": "code",
   "execution_count": 20,
   "id": "7773c3de",
   "metadata": {},
   "outputs": [
    {
     "name": "stdout",
     "output_type": "stream",
     "text": [
      "0.0 12.139859261818819\n",
      "0.1 12.169142262495681\n",
      "0.2 12.274775583770966\n",
      "0.30000000000000004 12.508401429021486\n",
      "0.4 12.950714951327363\n",
      "0.5 13.704423473282679\n",
      "0.6000000000000001 14.88605113761441\n",
      "0.7000000000000001 16.617551991904772\n",
      "0.8 19.01835468245177\n",
      "0.9 22.198094967961485\n"
     ]
    }
   ],
   "source": [
    "lst=[]\n",
    "ilst = []\n",
    "for i in np.arange(0.0,1.0,0.1):\n",
    "    l = -log_post([.2791,0.79,i],z,f,r,ci,cn,s,si)\n",
    "    lst.append(l)\n",
    "    ilst.append(i)\n",
    "    print(i,l)\n",
    "    "
   ]
  },
  {
   "cell_type": "code",
   "execution_count": 21,
   "id": "c9dbb6e1",
   "metadata": {},
   "outputs": [],
   "source": [
    "fi = 1.69038\n",
    "fl = -log_post([.2791,0.79,fi],z,f,r,ci,cn,s,si)\n",
    "def plot_l(c=10):\n",
    "    fig=plt.figure(figsize=(12.0,9.5), dpi=80)\n",
    "    #fig.suptitle('Overdensity at turn around', fontsize=14, fontweight='bold')\n",
    "    gs = gridspec.GridSpec(1, 1)\n",
    "    ax1 = plt.subplot(gs[0, 0])\n",
    "    ax1.set_ylabel(r\"$\\chi^2$\",fontsize=40)\n",
    "    ax1.set_xlabel(\"$B1$\",fontsize=40)\n",
    "    #ax1.set_xscale('log')\n",
    "    ax1.tick_params(axis='both', which='major',labelsize=13)\n",
    "    \n",
    "    i=0\n",
    "    ax1.plot(ilst,lst)\n",
    "    ax1.plot(fi,fl,\"ro\",label=\"fitted\")\n",
    "    \n",
    "       \n",
    "    \n",
    "    \n",
    "    ax1.legend(loc='best',frameon=False, fontsize=20)\n",
    "\n",
    "    fig.savefig(\"lkl_chi.pdf\",dpi=fig.dpi,bbox_inches='tight')"
   ]
  },
  {
   "cell_type": "code",
   "execution_count": 22,
   "id": "b2ce81bf",
   "metadata": {},
   "outputs": [
    {
     "data": {
      "image/png": "[encoded data removed]",
      "text/plain": [
       "<Figure size 960x760 with 1 Axes>"
      ]
     },
     "metadata": {
      "needs_background": "light"
     },
     "output_type": "display_data"
    }
   ],
   "source": [
    "plot_l()"
   ]
  },
  {
   "cell_type": "code",
   "execution_count": null,
   "id": "f354cfcf",
   "metadata": {},
   "outputs": [],
   "source": []
  }
 ],
 "metadata": {
  "kernelspec": {
   "display_name": "Python 3 (ipykernel)",
   "language": "python",
   "name": "python3"
  },
  "language_info": {
   "codemirror_mode": {
    "name": "ipython",
    "version": 3
   },
   "file_extension": ".py",
   "mimetype": "text/x-python",
   "name": "python",
   "nbconvert_exporter": "python",
   "pygments_lexer": "ipython3",
   "version": "3.7.3"
  }
 },
 "nbformat": 4,
 "nbformat_minor": 5
}
